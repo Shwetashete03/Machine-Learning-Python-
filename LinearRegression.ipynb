{
 "cells": [
  {
   "cell_type": "code",
   "execution_count": 1,
   "metadata": {},
   "outputs": [],
   "source": [
    "import math\n",
    "import numpy as np\n",
    "from matplotlib import pyplot as plt"
   ]
  },
  {
   "cell_type": "markdown",
   "metadata": {},
   "source": [
    "# Linear Regression\n",
    "Linear regression is a classic method of fitting a line to a set of data. It can be extended to fitting any curve with linear coefficients.\n",
    "\n",
    "Basic Algebra\n",
    "A line can be defined using this standard equation:\n",
    "\n",
    "$$y = a x + b$$\n",
    "Where $a$ is the slope and $b$ is the y-intercept. Given two sets of points $x_1, y_1$ and $x_2, y_2$, we have two equations with two unknowns. It is then possible to solve for $a$ and $b$ explicitly.\n",
    "\n",
    "For example, given the points 2, 1 and 3, 3, we can visualize these points:"
   ]
  },
  {
   "cell_type": "code",
   "execution_count": 2,
   "metadata": {},
   "outputs": [
    {
     "data": {
      "image/png": "[encoded data removed]",
      "text/plain": [
       "<Figure size 432x288 with 1 Axes>"
      ]
     },
     "metadata": {
      "needs_background": "light"
     },
     "output_type": "display_data"
    }
   ],
   "source": [
    "(x1, y1) = (2, 1)\n",
    "(x2, y2) = (3, 3)\n",
    "\n",
    "plt.plot(x1, y1, 'ro')\n",
    "plt.plot(x2, y2, 'ro')\n",
    "plt.plot([x1, x2], [y1, y2])\n",
    "plt.show()"
   ]
  },
  {
   "cell_type": "markdown",
   "metadata": {},
   "source": [
    "To solve for constants $a$ and $b$, we can write these two equations:\n",
    "\n",
    "$$1 = 2 a + b$$$$3 = 3 a + b$$\n",
    "Using basic algebra, we find the values for $a$ and $b$ are:\n",
    "\n",
    "$$a = 2$$$$b = -3$$\n",
    "Redrawing the graph with the y-intercept: "
   ]
  },
  {
   "cell_type": "code",
   "execution_count": 3,
   "metadata": {},
   "outputs": [
    {
     "data": {
      "image/png": "[encoded data removed]",
      "text/plain": [
       "<Figure size 432x288 with 1 Axes>"
      ]
     },
     "metadata": {
      "needs_background": "light"
     },
     "output_type": "display_data"
    }
   ],
   "source": [
    "a = 2\n",
    "b = -3\n",
    "\n",
    "plt.plot(x1, y1, 'ro')\n",
    "plt.plot(x2, y2, 'ro')\n",
    "plt.plot([0, x2], [b, y2])\n",
    "plt.show()"
   ]
  },
  {
   "cell_type": "markdown",
   "metadata": {},
   "source": [
    "# Linear Algebra\n",
    "The problem above can be abstracted using linear algebra. The system of equations above can be rewritten in matrix form:\n",
    "\n",
    "$$1 = 2 a + b$$$$3 = 3 a + b$$$$ \\begin{bmatrix}\n",
    "1 \\\\\n",
    "3\n",
    "\\end{bmatrix} = \\begin{bmatrix}\n",
    "2 &amp; 1 \\\\\n",
    "3 &amp; 1 \\\\\n",
    "\\end{bmatrix} \\begin{bmatrix}\n",
    "a \\\\\n",
    "b\n",
    "\\end{bmatrix}$$\n",
    "This can be written more generally as matrix equation\n",
    "\n",
    "$$y = A v$$\n",
    "Where $y$ and $v$ are vectors and $A$ is a matrix:\n",
    "\n",
    "$$y = \\begin{bmatrix}\n",
    "1 \\\\\n",
    "3\n",
    "\\end{bmatrix}$$$$v = \\begin{bmatrix}\n",
    "a \\\\\n",
    "b\n",
    "\\end{bmatrix}$$$$A = \\begin{bmatrix}\n",
    "2 &amp; 1 \\\\\n",
    "3 &amp; 1 \\\\\n",
    "\\end{bmatrix}$$\n",
    "To solve for $a$ and $b$, which is equivalent to solving for the vector $v$, consider how we would solve a simple equation such as\n",
    "\n",
    "$$1 = 2 x$$\n",
    "We could multiply both sides of the equation by the inverse of $2$, which is $2^{-1}$\n",
    "\n",
    "$$2^{-1} \\times 1 = 2^{-1} \\times 2 x$$\n",
    "$2 \\times 2^{-1}$ is just $1$, so\n",
    "\n",
    "$$x = \\frac{1}{2}$$\n",
    "By analogy, multiplying the matrix equation above by the inverse of $A$ or $A^{-1}$ on both sides would look like this\n",
    "\n",
    "$$y = A v$$$$A^{-1} y = A^{-1} A v$$\n",
    "The quantity $A^{-1} A$ becomes the identity matrix, so the vector $v$ would then be\n",
    "\n",
    "$$v = A^{-1} y$$\n",
    "NumPy contains methods to compute the inverse of a matrix."
   ]
  },
  {
   "cell_type": "code",
   "execution_count": 4,
   "metadata": {},
   "outputs": [
    {
     "data": {
      "text/plain": [
       "array([[2, 1],\n",
       "       [3, 1]])"
      ]
     },
     "execution_count": 4,
     "metadata": {},
     "output_type": "execute_result"
    }
   ],
   "source": [
    "# Create a 2x2 matrix\n",
    "\n",
    "A = np.array([[x1, 1], [x2, 1]])\n",
    "A"
   ]
  },
  {
   "cell_type": "code",
   "execution_count": 5,
   "metadata": {},
   "outputs": [
    {
     "data": {
      "text/plain": [
       "array([[-1.,  1.],\n",
       "       [ 3., -2.]])"
      ]
     },
     "execution_count": 5,
     "metadata": {},
     "output_type": "execute_result"
    }
   ],
   "source": [
    "# Compute the inverse of A\n",
    "\n",
    "Ainv = np.linalg.inv(A)\n",
    "Ainv"
   ]
  },
  {
   "cell_type": "code",
   "execution_count": 6,
   "metadata": {},
   "outputs": [
    {
     "data": {
      "text/plain": [
       "array([[1.00000000e+00, 1.11022302e-16],\n",
       "       [0.00000000e+00, 1.00000000e+00]])"
      ]
     },
     "execution_count": 6,
     "metadata": {},
     "output_type": "execute_result"
    }
   ],
   "source": [
    "# Multiply the inverse of A with A to confirm it produces the identity matrix\n",
    "\n",
    "Ainv.dot(A)"
   ]
  },
  {
   "cell_type": "markdown",
   "metadata": {},
   "source": [
    "This is the value of the identity matrix with a very small round-off error:\n",
    "\n",
    "$$A^{-1} A = I = \\begin{bmatrix}\n",
    "1 &amp; 0 \\\\\n",
    "0 &amp; 1 \\\\\n",
    "\\end{bmatrix}$$\n",
    "Multiplying the vector $v$ with $A^{-1}$ on the left yields the vector $y$: "
   ]
  },
  {
   "cell_type": "code",
   "execution_count": 7,
   "metadata": {},
   "outputs": [
    {
     "data": {
      "text/plain": [
       "array([ 2., -3.])"
      ]
     },
     "execution_count": 7,
     "metadata": {},
     "output_type": "execute_result"
    }
   ],
   "source": [
    "y = np.array([1, 3])\n",
    "v = Ainv.dot(y)\n",
    "v"
   ]
  },
  {
   "cell_type": "markdown",
   "metadata": {},
   "source": [
    "# Which is the same result as before with basic algebra.\n",
    "\n",
    "More Data\n",
    "Consider the case when more than two data points are available.\n",
    "\n",
    "Given a set of samples, $x_1, x_2, ... x_n$ and $y_1, y_2, ... y_n$, a simple linear model can be written as:\n",
    "\n",
    "$$ y_i = a x_i + b$$\n",
    "This can be rewritten in matrix form:\n",
    "\n",
    "$$ \\begin{bmatrix}\n",
    "y_1 \\\\\n",
    "y_2 \\\\\n",
    "... \\\\\n",
    "y_n\n",
    "\\end{bmatrix} = \\begin{bmatrix}\n",
    "x_1 &amp; 1 \\\\\n",
    "x_2 &amp; 1 \\\\\n",
    "... \\\\\n",
    "x_n &amp; 1\n",
    "\\end{bmatrix} \\begin{bmatrix}\n",
    "a \\\\\n",
    "b\n",
    "\\end{bmatrix}$$\n",
    "Introduce variables for simplification:\n",
    "\n",
    "$$ y = \\begin{bmatrix}\n",
    "y_1 \\\\\n",
    "y_2 \\\\\n",
    "... \\\\\n",
    "y_n\n",
    "\\end{bmatrix}$$$$ A = \\begin{bmatrix}\n",
    "x_1 &amp; 1 \\\\\n",
    "x_2 &amp; 1 \\\\\n",
    "... \\\\\n",
    "x_n &amp; 1\n",
    "\\end{bmatrix}$$$$ v = \\begin{bmatrix}\n",
    "a \\\\\n",
    "b\n",
    "\\end{bmatrix}$$\n",
    "Substitute variables above to produce a simplifed form:\n",
    "\n",
    "$$ y = A v$$\n",
    "If $A$ is a square matrix, i.e. $n = 2$, $a$ and $b$ can be determined exactly:\n",
    "\n",
    "$$ \\begin{bmatrix}\n",
    "a \\\\\n",
    "b\n",
    "\\end{bmatrix} = v = A^{-1} y$$\n",
    "In the case where $n &gt; 2$, $A$ is not square and cannot be inverted. One solution is to compute a pseudo-inverse by multiplying $A$ by it's transpose $A^T$, which will yield a square matrix on the right hand side:\n",
    "\n",
    "$$ A^T y = A^T A v$$\n",
    "The matrix $A^T A$ on the right can be eliminated by multiplying by it's inverse $(A^T A)^{-1}$:\n",
    "\n",
    "$$ (A^T A)^{-1} A^T y = (A^T A)^{-1} (A^T A) v$$"
   ]
  },
  {
   "cell_type": "markdown",
   "metadata": {},
   "source": [
    "##  Numerical Example\n",
    "The following is an example with real values."
   ]
  },
  {
   "cell_type": "code",
   "execution_count": 8,
   "metadata": {},
   "outputs": [
    {
     "data": {
      "image/png": "[encoded data removed]",
      "text/plain": [
       "<Figure size 432x288 with 1 Axes>"
      ]
     },
     "metadata": {
      "needs_background": "light"
     },
     "output_type": "display_data"
    }
   ],
   "source": [
    "x = np.array([-0.40033681,  1.12710083,  1.51535892,  3.13012734,  3.07744676,\n",
    "        4.25275393,  6.535855  ,  4.23343874,  8.048823  ,  7.38773014,\n",
    "        9.91933651, 12.69142755, 11.61959316, 12.20667906, 13.98048109,\n",
    "       16.07602619, 16.31351797, 17.31102756, 17.74511659, 17.66863483])\n",
    "\n",
    "y = np.array([ 0.7261771 ,  2.86206199, -0.2489528 ,  0.63325248,  4.49244568,\n",
    "        5.30531409, 13.6101148 ,  8.48395548, 10.42996366, 14.74172737,\n",
    "       15.88897483, 23.76571743, 23.61602269, 20.17880228, 25.85779471,\n",
    "       30.11114371, 26.88735809, 28.57977723, 30.99383456, 33.03676545])\n",
    "\n",
    "plt.scatter(x, y, color='red')\n",
    "plt.show()"
   ]
  },
  {
   "cell_type": "markdown",
   "metadata": {},
   "source": [
    "Prepare matrix A of the form\n",
    "\n",
    "$$A = \\begin{bmatrix}\n",
    "x_1 &amp; 1 \\\\\n",
    "x_2 &amp; 1 \\\\\n",
    "... \\\\\n",
    "x_n &amp; 1\n",
    "\\end{bmatrix}$$"
   ]
  },
  {
   "cell_type": "code",
   "execution_count": 9,
   "metadata": {},
   "outputs": [
    {
     "data": {
      "text/plain": [
       "array([[-0.40033681,  1.        ],\n",
       "       [ 1.12710083,  1.        ],\n",
       "       [ 1.51535892,  1.        ],\n",
       "       [ 3.13012734,  1.        ],\n",
       "       [ 3.07744676,  1.        ],\n",
       "       [ 4.25275393,  1.        ],\n",
       "       [ 6.535855  ,  1.        ],\n",
       "       [ 4.23343874,  1.        ],\n",
       "       [ 8.048823  ,  1.        ],\n",
       "       [ 7.38773014,  1.        ],\n",
       "       [ 9.91933651,  1.        ],\n",
       "       [12.69142755,  1.        ],\n",
       "       [11.61959316,  1.        ],\n",
       "       [12.20667906,  1.        ],\n",
       "       [13.98048109,  1.        ],\n",
       "       [16.07602619,  1.        ],\n",
       "       [16.31351797,  1.        ],\n",
       "       [17.31102756,  1.        ],\n",
       "       [17.74511659,  1.        ],\n",
       "       [17.66863483,  1.        ]])"
      ]
     },
     "execution_count": 9,
     "metadata": {},
     "output_type": "execute_result"
    }
   ],
   "source": [
    "x_matrix = x.reshape((-1, 1))\n",
    "ones = np.ones((len(x), 1))\n",
    "A = np.append(x_matrix, ones, axis=1)\n",
    "A"
   ]
  },
  {
   "cell_type": "markdown",
   "metadata": {},
   "source": [
    " Compute the pseudo-inverse\n",
    "\n",
    "$$(A^T A)^{-1} A^T$$ "
   ]
  },
  {
   "cell_type": "code",
   "execution_count": 10,
   "metadata": {},
   "outputs": [
    {
     "data": {
      "text/plain": [
       "array([[-0.01354453, -0.01139449, -0.01084797, -0.008575  , -0.00864916,\n",
       "        -0.00699478, -0.00378106, -0.00702197, -0.00165139, -0.00258195,\n",
       "         0.00098157,  0.0048836 ,  0.00337487,  0.00420126,  0.00669809,\n",
       "         0.0096478 ,  0.0099821 ,  0.01138621,  0.01199723,  0.01188958],\n",
       "       [ 0.17490775,  0.15508006,  0.15004008,  0.12907875,  0.1297626 ,\n",
       "         0.11450593,  0.08486897,  0.11475666,  0.06522911,  0.07381077,\n",
       "         0.04094796,  0.00496341,  0.01887691,  0.01125594, -0.0117698 ,\n",
       "        -0.0389721 , -0.04205498, -0.05500366, -0.06063858, -0.05964577]])"
      ]
     },
     "execution_count": 10,
     "metadata": {},
     "output_type": "execute_result"
    }
   ],
   "source": [
    "At = A.T\n",
    "pseudo_inv = np.linalg.inv(At.dot(A)).dot(At)\n",
    "pseudo_inv"
   ]
  },
  {
   "cell_type": "code",
   "execution_count": 11,
   "metadata": {},
   "outputs": [
    {
     "data": {
      "image/png": "[encoded data removed]",
      "text/plain": [
       "<Figure size 432x288 with 1 Axes>"
      ]
     },
     "metadata": {
      "needs_background": "light"
     },
     "output_type": "display_data"
    }
   ],
   "source": [
    "(a, b) = pseudo_inv.dot(y)\n",
    "\n",
    "x_points = [0, 20]\n",
    "y_points = [a*x + b for x in x_points]\n",
    "plt.scatter(x, y, color='red')\n",
    "plt.plot(x_points, y_points)\n",
    "plt.show()"
   ]
  },
  {
   "cell_type": "markdown",
   "metadata": {},
   "source": [
    "## Model Accuracy\n",
    "The accuracy of the model above can be measured by computing the mean squared error between predicted and training values:\n",
    "\n",
    "$$ \\epsilon = \\frac{1}{m} \\sum_{i=1}^{m} (a x_i + b - y_i)^2 $$\n",
    "The prediction error can be computed in the same way, but using the test samples instead of the training samples.\n",
    "\n",
    "Test error can be different and training error, for example:\n",
    "\n",
    "If training error is high, this is a case of high bias. This generally means the model is not powerful enough to fit the training data.\n",
    "If the training error is low, but the test error is high, this is a case of high variance. This usually often means the model is overfitting and does not generalize well with data it has not seen."
   ]
  },
  {
   "cell_type": "code",
   "execution_count": 12,
   "metadata": {},
   "outputs": [
    {
     "data": {
      "text/plain": [
       "2.1254120025204726"
      ]
     },
     "execution_count": 12,
     "metadata": {},
     "output_type": "execute_result"
    }
   ],
   "source": [
    "epsilon = ((a*x + b - y)**2).mean()\n",
    "math.sqrt(epsilon)"
   ]
  },
  {
   "cell_type": "markdown",
   "metadata": {},
   "source": [
    "# Extending the Model\n",
    "In the case where a straight line will not accurately fit the available data, a more complex model can be used. For example, a quadratic model might be more suitable:\n",
    "\n",
    "$$ y_i = a {x_i}^2 + b x_i + c \\tag{10}$$\n",
    "In matrix form:\n",
    "\n",
    "$$ \\begin{bmatrix}\n",
    "y_1 \\\\\n",
    "y_2 \\\\\n",
    "... \\\\\n",
    "y_n\n",
    "\\end{bmatrix} = \\begin{bmatrix}\n",
    "{x_1}^2 &amp; x_1 &amp; 1 \\\\\n",
    "{x_2}^2 &amp; x_2 &amp; 1 \\\\\n",
    "... \\\\\n",
    "{x_n}^2 &amp; x_n &amp; 1\n",
    "\\end{bmatrix} \\begin{bmatrix}\n",
    "a \\\\\n",
    "b \\\\\n",
    "c\n",
    "\\end{bmatrix} \\tag{11}$$\n",
    "In this case the matrix $A$ is:\n",
    "\n",
    "$$ A = \\begin{bmatrix}\n",
    "{x_1}^2 &amp; x_1 &amp; 1 \\\\\n",
    "{x_2}^2 &amp; x_2 &amp; 1 \\\\\n",
    "... \\\\\n",
    "{x_n}^2 &amp; x_n &amp; 1\n",
    "\\end{bmatrix}\\tag{12}$$\n",
    "\n",
    "The same procedure can be used to find $a$, $b$, and $c$:\n",
    "\n",
    "$$ \\begin{bmatrix}\n",
    "a \\\\\n",
    "b \\\\\n",
    "c\n",
    "\\end{bmatrix} = (A^T A)^{-1} A^T y \\tag{13}$$"
   ]
  },
  {
   "cell_type": "code",
   "execution_count": null,
   "metadata": {},
   "outputs": [],
   "source": []
  }
 ],
 "metadata": {
  "kernelspec": {
   "display_name": "Python 3",
   "language": "python",
   "name": "python3"
  },
  "language_info": {
   "codemirror_mode": {
    "name": "ipython",
    "version": 3
   },
   "file_extension": ".py",
   "mimetype": "text/x-python",
   "name": "python",
   "nbconvert_exporter": "python",
   "pygments_lexer": "ipython3",
   "version": "3.8.5"
  }
 },
 "nbformat": 4,
 "nbformat_minor": 4
}
